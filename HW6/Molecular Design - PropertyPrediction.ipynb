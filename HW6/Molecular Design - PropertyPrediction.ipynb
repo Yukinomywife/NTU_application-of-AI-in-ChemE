{
 "cells": [
  {
   "cell_type": "code",
   "execution_count": 1,
   "id": "724941ef",
   "metadata": {
    "scrolled": true
   },
   "outputs": [
    {
     "name": "stdout",
     "output_type": "stream",
     "text": [
      "Requirement already satisfied: rdkit in c:\\users\\stlin\\.conda\\envs\\py37\\lib\\site-packages (2023.3.1)\n",
      "Requirement already satisfied: Pillow in c:\\users\\stlin\\.conda\\envs\\py37\\lib\\site-packages (from rdkit) (9.2.0)\n",
      "Requirement already satisfied: numpy in c:\\users\\stlin\\.conda\\envs\\py37\\lib\\site-packages (from rdkit) (1.21.5)\n",
      "Collecting pubchempy\n",
      "  Using cached PubChemPy-1.0.4.tar.gz (29 kB)\n",
      "  Preparing metadata (setup.py): started\n",
      "  Preparing metadata (setup.py): finished with status 'done'\n",
      "Building wheels for collected packages: pubchempy\n",
      "  Building wheel for pubchempy (setup.py): started\n",
      "  Building wheel for pubchempy (setup.py): finished with status 'done'\n",
      "  Created wheel for pubchempy: filename=PubChemPy-1.0.4-py3-none-any.whl size=13819 sha256=915843547b6de35a7ff409b9f1d200552b69809bece2a4bc3e03045fa52f7419\n",
      "  Stored in directory: c:\\users\\stlin\\appdata\\local\\pip\\cache\\wheels\\7c\\3d\\8c\\8192697412e9899dc55bbbb08bbc1197bef333caaa2a71c448\n",
      "Successfully built pubchempy\n",
      "Installing collected packages: pubchempy\n",
      "Successfully installed pubchempy-1.0.4\n"
     ]
    }
   ],
   "source": [
    "#Download RDKit, PubChem and import modules\n",
    "!pip install rdkit\n",
    "#install RDKit package\n",
    "from rdkit import Chem\n",
    "from rdkit.Chem import Draw\n",
    "from rdkit.Chem import MACCSkeys\n",
    "from rdkit.Chem import AllChem\n",
    "from rdkit import DataStructs\n",
    "from rdkit.Chem import Descriptors\n",
    "from rdkit.Chem.rdMolDescriptors import CalcMolFormula\n",
    "!pip install pubchempy\n",
    "import pubchempy as pcp"
   ]
  },
  {
   "cell_type": "code",
   "execution_count": 2,
   "id": "79bb135c",
   "metadata": {},
   "outputs": [
    {
     "name": "stdout",
     "output_type": "stream",
     "text": [
      "mol:  <rdkit.Chem.rdchem.Mol object at 0x0000016CEDABA510>\n",
      "atoms:  16\n",
      "\n",
      "\n"
     ]
    }
   ],
   "source": [
    "# read the SMILES\n",
    "SMILES = \"[H]N1C(=O)N(C(=O)C1(C1=C([H])C([H])=C([H])C([H])=C1[H])C([H])([H])C([H])([H])[H])C([H])([H])[H]\"\n",
    "mol = Chem.MolFromSmiles(SMILES)\n",
    "print(\"mol: \", mol)\n",
    "atoms = mol.GetNumAtoms()\n",
    "print(\"atoms: \", atoms)\n",
    "print(\"\\n\")"
   ]
  },
  {
   "cell_type": "code",
   "execution_count": 3,
   "id": "c1c8f8dd",
   "metadata": {},
   "outputs": [
    {
     "name": "stdout",
     "output_type": "stream",
     "text": [
      "logP calculated by RDKit:  1.4734999999999998\n",
      "TPSA calculated by RDKit:  49.410000000000004\n",
      "TPSA calculated by PubChem:  1.5\n",
      "logP calculated by PubChem:  49.4\n"
     ]
    }
   ],
   "source": [
    "#Calculate logP and TPSA\n",
    "# logP: octanol-water partition coefficient\n",
    "# TPSA: total polar surface area\n",
    "\n",
    "logP_rdkit = Descriptors.MolLogP(mol)\n",
    "TPSA_rdkit = Descriptors.TPSA(mol)\n",
    "\n",
    "print(\"logP calculated by RDKit: \", logP_rdkit)\n",
    "print(\"TPSA calculated by RDKit: \", TPSA_rdkit)\n",
    "p = pcp.get_properties(['XLogP', \"TPSA\"], SMILES, 'smiles')\n",
    "print(\"TPSA calculated by PubChem: \", p[0][\"XLogP\"])\n",
    "print(\"logP calculated by PubChem: \", p[0][\"TPSA\"])"
   ]
  },
  {
   "cell_type": "code",
   "execution_count": null,
   "id": "897fc138",
   "metadata": {},
   "outputs": [],
   "source": []
  }
 ],
 "metadata": {
  "kernelspec": {
   "display_name": "Python 3 (ipykernel)",
   "language": "python",
   "name": "python3"
  },
  "language_info": {
   "codemirror_mode": {
    "name": "ipython",
    "version": 3
   },
   "file_extension": ".py",
   "mimetype": "text/x-python",
   "name": "python",
   "nbconvert_exporter": "python",
   "pygments_lexer": "ipython3",
   "version": "3.7.13"
  }
 },
 "nbformat": 4,
 "nbformat_minor": 5
}

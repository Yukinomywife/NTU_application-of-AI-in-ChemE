{
 "cells": [
  {
   "cell_type": "code",
   "execution_count": 1,
   "id": "d4434c57",
   "metadata": {},
   "outputs": [
    {
     "name": "stdout",
     "output_type": "stream",
     "text": [
      "3.7.13\n"
     ]
    }
   ],
   "source": [
    "from platform import python_version\n",
    "print(python_version())\n",
    "#make sure that python version is 3.8"
   ]
  },
  {
   "cell_type": "code",
   "execution_count": 3,
   "id": "7246662d",
   "metadata": {},
   "outputs": [
    {
     "ename": "SyntaxError",
     "evalue": "invalid syntax (1352286541.py, line 21)",
     "output_type": "error",
     "traceback": [
      "\u001b[1;36m  File \u001b[1;32m\"C:\\Users\\stlin\\AppData\\Local\\Temp\\ipykernel_24048\\1352286541.py\"\u001b[1;36m, line \u001b[1;32m21\u001b[0m\n\u001b[1;33m    git clone https://github.com/molecularsets/moses.git moses\u001b[0m\n\u001b[1;37m            ^\u001b[0m\n\u001b[1;31mSyntaxError\u001b[0m\u001b[1;31m:\u001b[0m invalid syntax\n"
     ]
    }
   ],
   "source": [
    "#This tutorial aims to demonstrate how to ues MOSES for calculating metrics for different sets of molecules.\n",
    "#install RDKit package first\n",
    "!pip install rdkit\n",
    "#install MOSES package\n",
    "!pip install molsets\n",
    "\n",
    "# importing os module\n",
    "import os\n",
    "path1 = os. getcwd()\n",
    "print(path1)\n",
    "\n",
    "#make a copy of the MOSES code to \n",
    "%cd $path1\n",
    "path= path1+\"\\moses\"\n",
    "isExist = os.path.exists(path)\n",
    "#print(isExist)\n",
    "if not isExist:\n",
    "   # Create a new directory because it does not exist\n",
    "   os.makedirs(path)\n",
    "   print(\"The new directory\",path,\" is created!\")\n",
    "!git clone https://github.com/molecularsets/moses.git moses\n",
    "print(\"git moses.git is done.\")"
   ]
  },
  {
   "cell_type": "code",
   "execution_count": 4,
   "id": "adc496a2",
   "metadata": {},
   "outputs": [
    {
     "name": "stdout",
     "output_type": "stream",
     "text": [
      "C:\\Users\\stlin\\Dropbox\\Research\\NTU\\class\\AI\\2023\\pythonscripts\n"
     ]
    },
    {
     "name": "stderr",
     "output_type": "stream",
     "text": [
      "C:\\Users\\stlin\\.conda\\envs\\py38\\lib\\site-packages\\moses\\metrics\\utils.py:24: FutureWarning: The frame.append method is deprecated and will be removed from pandas in a future version. Use pandas.concat instead.\n",
      "  _mcf.append(_pains, sort=True)['smarts'].values]\n"
     ]
    },
    {
     "name": "stdout",
     "output_type": "stream",
     "text": [
      "git moses_trained_model.git is done.\n"
     ]
    },
    {
     "name": "stderr",
     "output_type": "stream",
     "text": [
      "fatal: destination path 'moses/model' already exists and is not an empty directory.\n"
     ]
    }
   ],
   "source": [
    "import moses\n",
    "# train the model (take aae as example)\n",
    "# !python scripts/train.py aae --train_load /content/moses/data/train.csv --model_save /content/moses/model/model_AAE --config_save /content/moses/model/config_AAE --vocab_save /content/moses/model/vocab_AAE --device cpu\n",
    "%cd $path1\n",
    "#create a folder named moses/gen\n",
    "path= path1+\"\\moses\\gen\"\n",
    "isExist = os.path.exists(path)\n",
    "if not isExist:\n",
    "   # Create a new directory because it does not exist\n",
    "   os.makedirs(path)\n",
    "   print(\"The new directory\",path,\" is created!\")\n",
    "#create a folder named moses/model\n",
    "path= path1+\"\\moses\\model\"\n",
    "isExist = os.path.exists(path)\n",
    "if not isExist:\n",
    "   # Create a new directory because it does not exist\n",
    "   os.makedirs(path)\n",
    "   print(\"The new directory\",path,\" is created!\")\n",
    "!git clone https://github.com/shaoweishaowei/moses_trained_model.git moses/model\n",
    "print(\"git moses_trained_model.git is done.\")\n"
   ]
  },
  {
   "cell_type": "code",
   "execution_count": 5,
   "id": "3687f34a",
   "metadata": {},
   "outputs": [
    {
     "name": "stdout",
     "output_type": "stream",
     "text": [
      "C:\\Users\\stlin\\Dropbox\\Research\\NTU\\class\\AI\\2023\\pythonscripts\\moses\n"
     ]
    },
    {
     "name": "stderr",
     "output_type": "stream",
     "text": [
      "C:\\Users\\stlin\\.conda\\envs\\py38\\lib\\site-packages\\moses\\metrics\\utils.py:24: FutureWarning: The frame.append method is deprecated and will be removed from pandas in a future version. Use pandas.concat instead.\n",
      "  _mcf.append(_pains, sort=True)['smarts'].values]\n",
      "\n",
      "Generating samples:   0%|          | 0/200 [00:00<?, ?it/s]C:\\Users\\stlin\\.conda\\envs\\py38\\lib\\site-packages\\moses\\vae\\model.py:217: UserWarning: indexing with dtype torch.uint8 is now deprecated, please use a dtype torch.bool instead. (Triggered internally at  C:\\b\\abs_bao0hdcrdh\\croot\\pytorch_1675190257512\\work\\aten\\src\\ATen/native/IndexingUtils.h:28.)\n",
      "  x[~eos_mask, i] = w[~eos_mask]\n",
      "C:\\Users\\stlin\\.conda\\envs\\py38\\lib\\site-packages\\moses\\vae\\model.py:219: UserWarning: masked_fill_ received a mask with dtype torch.uint8, this behavior is now deprecated,please use a mask with dtype torch.bool instead. (Triggered internally at  C:\\b\\abs_bao0hdcrdh\\croot\\pytorch_1675190257512\\work\\aten\\src\\ATen\\native\\TensorAdvancedIndexing.cpp:1582.)\n",
      "  end_pads[i_eos_mask] = i + 1\n",
      "\n",
      "Generating samples:  16%|█▌        | 32/200 [00:07<00:41,  4.00it/s]\n",
      "Generating samples:  32%|███▏      | 64/200 [00:25<00:58,  2.33it/s]\n",
      "Generating samples:  48%|████▊     | 96/200 [00:43<00:50,  2.06it/s]\n",
      "Generating samples:  64%|██████▍   | 128/200 [01:01<00:36,  1.95it/s]\n",
      "Generating samples:  80%|████████  | 160/200 [01:16<00:20,  2.00it/s]\n",
      "Generating samples:  96%|█████████▌| 192/200 [01:24<00:03,  2.44it/s]\n",
      "Generating samples: 100%|██████████| 200/200 [01:26<00:00,  2.54it/s]\n",
      "Generating samples: 100%|██████████| 200/200 [01:26<00:00,  2.32it/s]\n"
     ]
    },
    {
     "name": "stdout",
     "output_type": "stream",
     "text": [
      "valid,0.96\n",
      "unique@1000,1.0\n",
      "unique@10000,1.0\n",
      "FCD/Test,7.371709828666397\n",
      "SNN/Test,0.6235568366634349\n",
      "Frag/Test,0.13338830906048726\n",
      "Scaf/Test,0.2475274176410549\n",
      "FCD/TestSF,7.706044459463101\n",
      "SNN/TestSF,0.5862802366415659\n",
      "Frag/TestSF,-0.7174965245849183\n",
      "Scaf/TestSF,0.046120828428046545\n",
      "IntDiv,0.8476752506879469\n",
      "IntDiv2,0.8304470511764863\n",
      "Filters,1.0\n",
      "logP,0.09374463328510559\n",
      "SA,0.0412411550152418\n",
      "QED,0.006815502112732583\n",
      "weight,3.507310880474977\n",
      "Novelty,0.7239583333333334\n"
     ]
    },
    {
     "name": "stderr",
     "output_type": "stream",
     "text": [
      "C:\\Users\\stlin\\.conda\\envs\\py38\\lib\\site-packages\\moses\\metrics\\utils.py:24: FutureWarning: The frame.append method is deprecated and will be removed from pandas in a future version. Use pandas.concat instead.\n",
      "  _mcf.append(_pains, sort=True)['smarts'].values]\n",
      "C:\\Users\\stlin\\.conda\\envs\\py38\\lib\\site-packages\\moses\\script_utils.py:101: FutureWarning: The squeeze argument has been deprecated and will be removed in a future version. Append .squeeze(\"columns\") to the call to squeeze.\n",
      "\n",
      "\n",
      "  return pd.read_csv(path,\n",
      "C:\\Users\\stlin\\.conda\\envs\\py38\\lib\\site-packages\\moses\\metrics\\metrics.py:215: UserWarning: Can't compute unique@1000.gen contains only 192 molecules\n",
      "  warnings.warn(\n",
      "C:\\Users\\stlin\\.conda\\envs\\py38\\lib\\site-packages\\moses\\metrics\\metrics.py:215: UserWarning: Can't compute unique@10000.gen contains only 192 molecules\n",
      "  warnings.warn(\n"
     ]
    }
   ],
   "source": [
    "# go to MOSES dictionary\n",
    "%cd $path1\\moses\n",
    "    \n",
    "import pandas as pd\n",
    "# generate new molecules from the model (aae, vae, char_RNN) and calculate the MOSES metrics\n",
    "method = \"vae\"\n",
    "\n",
    "if method == \"aae\":\n",
    "  !python scripts\\sample.py aae --model_load model\\model_AAE.pt --vocab_load model\\vocab_AAE --config_load model\\config_AAE --n_samples 200 --gen_save gen\\gen_AAE --device cpu\n",
    "  path=path1+\"\\moses\\gen\\gen_AAE\"\n",
    "  data = pd.read_csv(path)\n",
    "  mol = data[\"SMILES\"].values\n",
    "  process_mol = []\n",
    "  for i in range (len(mol)):\n",
    "    smi = mol[i]\n",
    "    for j in range (len(smi)):\n",
    "      if smi[j] == \"<\" :\n",
    "        process_mol.append(smi[:j])\n",
    "        break\n",
    "  process_mol = pd.DataFrame(process_mol)\n",
    "  process_mol.columns = [\"SMILES\"]\n",
    "  !rm $path1\\moses\\gen\\gen_AAE\n",
    "  process_mol.to_csv(path, index = False)\n",
    "  !python scripts\\eval.py --ref_path data\\train.csv --gen_path gen\\gen_AAE\n",
    "elif method == \"vae\":\n",
    "  !python scripts\\sample.py vae --model_load model\\model_VAE.pt --vocab_load model\\vocab_VAE --config_load model\\config_VAE --n_samples 200 --gen_save gen\\gen_VAE --device cpu\n",
    "  !python scripts\\eval.py --ref_path data\\train.csv --gen_path gen\\gen_VAE\n",
    "else:\n",
    "  !python scripts\\sample.py char_rnn --model_load model\\model_RNN.pt --vocab_load model\\vocab_RNN --config_load model\\config_RNN --n_samples 200 --gen_save gen\\gen_RNN --device cpu\n",
    "  !python scripts\\eval.py --ref_path data\\train.csv --gen_path gen\\gen_RNN\n"
   ]
  },
  {
   "cell_type": "code",
   "execution_count": 8,
   "id": "7060fa66",
   "metadata": {},
   "outputs": [
    {
     "name": "stdout",
     "output_type": "stream",
     "text": [
      "size of traininig set: 1584663\n",
      "size of testing set: 50\n",
      "['CC1C2CCC(C2)C1CN(CCO)C(=O)c1ccc(Cl)cc1'\n",
      " 'COc1ccc(-c2cc(=O)c3c(O)c(OC)c(OC)cc3o2)cc1O'\n",
      " 'CCOC(=O)c1ncn2c1CN(C)C(=O)c1cc(F)ccc1-2' 'Clc1ccccc1-c1nc(-c2ccncc2)no1'\n",
      " 'CC(C)(Oc1ccc(Cl)cc1)C(=O)OCc1cccc(CO)n1'\n",
      " 'Cc1nc2c(OCc3ccccc3)cccn2c1CC#N' 'O=C1c2cccnc2CN1Cc1ccccc1Cl'\n",
      " 'O=C(NC1CCc2ccccc2C1)c1ccncc1' 'OC(Cn1cncn1)(Cn1cncn1)c1ccc(F)cc1F'\n",
      " 'Cc1[nH]cnc1Cc1nc(-c2ccccc2)cs1' 'COc1ccc(-c2nc3n(c2-c2ccncc2)CCC3)cc1'\n",
      " 'CC(=O)NC(C(=O)NCc1ccccc1)c1ccco1' 'COc1ccc(C2CNC(=O)C2)cc1OC1CCCC1'\n",
      " 'CCCn1c(=O)c2[nH]c(C3CCC(=O)C3)nc2n(CCC)c1=O'\n",
      " 'C=C1C(CO)C(O)CC1n1cnc2c(=O)[nH]c(N)nc21'\n",
      " 'COc1cc(CNc2ccc(C)cc2)cc(OC)c1OC' 'O=C(NCCc1cccc2ccccc12)C1CCC1'\n",
      " 'O=C1c2ccccc2-c2c3c(cc4ccnc1c24)OCO3'\n",
      " 'O=C(CN1C(=O)c2ccccc2S1(=O)=O)Nc1ccc(O)cc1'\n",
      " 'Cc1ccc(Sc2cncc3sc(C(N)=O)cc23)cc1' 'Cc1ccc2nc(N)[nH]c(=O)c2c1Sc1ccncc1'\n",
      " 'COc1cc2ncc(NC3CCC(O)CC3)nc2cc1OC' 'Nc1cnc(-c2cc(Cl)cc(Cl)c2Cl)c(N)n1'\n",
      " 'CCN1c2ncccc2NC(=O)c2cc(Br)cnc21' 'CC(C(=O)NC1CC1)S(=O)(=O)c1ccccc1Br'\n",
      " 'Nc1nnc(-c2ccc(N)c(Cl)c2Cl)c(N)n1' 'Cc1cc(NC(=O)Nc2ccc3c(ccn3C)c2)on1'\n",
      " 'NS(=O)(=O)c1cc(C2(O)NC(=O)c3ccccc32)ccc1Cl'\n",
      " 'c1ccc2[nH]c(CSc3ncnc4ccccc34)nc2c1' 'CN(C)c1ncnc2c1ncn2C1OC(CO)C(O)C1O'\n",
      " 'CNC(=O)OCc1c2ccncc2c(C)c2c1[nH]c1ccccc12'\n",
      " 'COc1ccc(-c2cc(C(F)(F)F)n3nc(C(N)=O)cc3n2)cc1'\n",
      " 'Cc1cc(C)n(-c2nc(N3CCOCC3)nc(N3CCOCC3)n2)n1'\n",
      " 'Cc1ccc(S(=O)(=O)NCc2ccccc2)cc1' 'CC(=O)Nc1ccc(S(=O)(=O)NC2CCCCC2)cc1'\n",
      " 'O=C(Nc1nnc(C2CC2)s1)c1csc2ccccc12' 'CCN(CC)C(=O)c1ccc(NC(C)=O)c(Cl)c1'\n",
      " 'Cc1ccccc1C(=O)Nc1ccccc1C(=O)N1CCCC1'\n",
      " 'Fc1ccccc1CSc1nnnn1-c1ccc2c(c1)OCO2' 'CS(=O)(=O)N(Cc1ccccc1)Cc1ccccc1'\n",
      " 'CC1CCCN(C(=O)c2ccc(Br)cc2)C1' 'COc1ccc(CNC(=O)c2ccccc2Cl)cc1'\n",
      " 'CCOC(=O)c1ccc(NC(=O)Cc2ccccc2)cc1'\n",
      " 'O=S(=O)(c1ccccc1)N(Cc1ccccc1)c1ccccn1'\n",
      " 'CCOC(=O)C1CCN(C(=O)c2ccccc2Br)CC1'\n",
      " 'COC(=O)c1ccc(NC(=O)Cc2ccc(OC)cc2)cc1'\n",
      " 'COC(=O)c1ccc(NC(=O)c2c(OC)cccc2OC)cc1' 'Cc1cc(Br)ccc1NC(=O)c1cccnc1'\n",
      " 'CC(=O)Nc1cccc(NS(=O)(=O)c2ccc(F)cc2)c1'\n",
      " 'Cc1cccc(=NS(=O)(=O)c2cc(Cl)ccc2Cl)[nH]1']\n"
     ]
    },
    {
     "name": "stderr",
     "output_type": "stream",
     "text": [
      "C:\\Users\\stlin\\.conda\\envs\\py38\\lib\\site-packages\\moses\\metrics\\metrics.py:215: UserWarning: Can't compute unique@1000.gen contains only 50 molecules\n",
      "  warnings.warn(\n",
      "C:\\Users\\stlin\\.conda\\envs\\py38\\lib\\site-packages\\moses\\metrics\\metrics.py:215: UserWarning: Can't compute unique@10000.gen contains only 50 molecules\n",
      "  warnings.warn(\n"
     ]
    },
    {
     "name": "stdout",
     "output_type": "stream",
     "text": [
      "{'valid': 1.0, 'unique@1000': 1.0, 'unique@10000': 1.0, 'FCD/Test': 25.672155921512825, 'SNN/Test': 1.0, 'Frag/Test': 0.2828985202739631, 'Scaf/Test': 0.2827320550967214, 'FCD/TestSF': 26.346731411737935, 'SNN/TestSF': 0.511317446231842, 'Frag/TestSF': -0.5041340503429734, 'Scaf/TestSF': 0.0, 'IntDiv': 0.8558407520294189, 'IntDiv2': 0.8044331388924565, 'Filters': 1.0, 'logP': 0.2939114101957133, 'SA': 0.19865412743868907, 'QED': 0.01564389899978396, 'weight': 9.811958511080581, 'Novelty': 1.0}\n"
     ]
    }
   ],
   "source": [
    "train = moses.get_dataset('train')\n",
    "test = moses.get_dataset('test')\n",
    "test = test[:50]\n",
    "print(\"size of traininig set: {}\".format(len(train)))\n",
    "print(\"size of testing set: {}\".format(len(test)))\n",
    "print(test)\n",
    "metrics = moses.get_all_metrics(test)\n",
    "print(metrics)"
   ]
  },
  {
   "cell_type": "code",
   "execution_count": null,
   "id": "56f4f914",
   "metadata": {},
   "outputs": [],
   "source": []
  }
 ],
 "metadata": {
  "kernelspec": {
   "display_name": "Python 3 (ipykernel)",
   "language": "python",
   "name": "python3"
  },
  "language_info": {
   "codemirror_mode": {
    "name": "ipython",
    "version": 3
   },
   "file_extension": ".py",
   "mimetype": "text/x-python",
   "name": "python",
   "nbconvert_exporter": "python",
   "pygments_lexer": "ipython3",
   "version": "3.10.9"
  }
 },
 "nbformat": 4,
 "nbformat_minor": 5
}
